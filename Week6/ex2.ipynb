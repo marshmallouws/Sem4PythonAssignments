{
 "nbformat": 4,
 "nbformat_minor": 2,
 "metadata": {
  "language_info": {
   "name": "python",
   "codemirror_mode": {
    "name": "ipython",
    "version": 3
   },
   "version": "3.7.4-final"
  },
  "orig_nbformat": 2,
  "file_extension": ".py",
  "mimetype": "text/x-python",
  "name": "python",
  "npconvert_exporter": "python",
  "pygments_lexer": "ipython3",
  "version": 3,
  "kernelspec": {
   "name": "python37464bitannikavirtualenvc6ca3bfe3af84bc1ba48277047dfa1ae",
   "display_name": "Python 3.7.4 64-bit ('Annika': virtualenv)"
  }
 },
 "cells": [
  {
   "cell_type": "code",
   "execution_count": 1,
   "metadata": {},
   "outputs": [],
   "source": [
    "# Multidownload doesn't work in ipynb\n",
    "import week6\n",
    "urls = {\n",
    "    'The_Importance_of_Being_Earnest.txt': 'https://www.gutenberg.org/ebooks/844.txt.utf-8',\n",
    "    'Grimms_Fairy_Tales.txt': 'https://www.gutenberg.org/files/2591/2591-0.txt',\n",
    "    'The_Call_of_the_Wild.txt': 'https://www.gutenberg.org/files/215/215-0.txt',\n",
    "    'Ion.txt': 'https://www.gutenberg.org/ebooks/1635.txt.utf-8',\n",
    "    'A_Modest_Proposal.txt': 'https://www.gutenberg.org/files/1080/1080-0.txt',\n",
    "    'A_Tale_of_Two_Cities.txt': 'https://www.gutenberg.org/files/98/98-0.txt',\n",
    "    'War_and_Peace.txt': 'https://www.gutenberg.org/files/2600/2600-0.txt',\n",
    "    'A_Christmas_Carol.txt': 'https://www.gutenberg.org/files/46/46-0.txt',\n",
    "    'A_Dolls_House.txt':'https://www.gutenberg.org/ebooks/2542.txt.utf-8',\n",
    "    'The_Adventures_of_Tom_Sawyer.txt': 'https://www.gutenberg.org/files/74/74-0.txt'\n",
    "}\n",
    "b = week6.DownloadBooks(urls)"
   ]
  },
  {
   "cell_type": "code",
   "execution_count": 2,
   "metadata": {},
   "outputs": [
    {
     "output_type": "stream",
     "name": "stdout",
     "text": "The_Importance_of_Being_Earnest.txt\nGrimms_Fairy_Tales.txt\nThe_Call_of_the_Wild.txt\nIon.txt\nA_Modest_Proposal.txt\nA_Tale_of_Two_Cities.txt\nWar_and_Peace.txt\nA_Christmas_Carol.txt\nA_Dolls_House.txt\nThe_Adventures_of_Tom_Sawyer.txt\n"
    },
    {
     "output_type": "error",
     "ename": "StopIteration",
     "evalue": "",
     "traceback": [
      "\u001b[1;31m---------------------------------------------------------------------------\u001b[0m",
      "\u001b[1;31mStopIteration\u001b[0m                             Traceback (most recent call last)",
      "\u001b[1;32m<ipython-input-2-af6df36a8c21>\u001b[0m in \u001b[0;36m<module>\u001b[1;34m\u001b[0m\n\u001b[0;32m     11\u001b[0m \u001b[0mprint\u001b[0m\u001b[1;33m(\u001b[0m\u001b[0mnext\u001b[0m\u001b[1;33m(\u001b[0m\u001b[0mc\u001b[0m\u001b[1;33m)\u001b[0m\u001b[1;33m)\u001b[0m\u001b[1;33m\u001b[0m\u001b[1;33m\u001b[0m\u001b[0m\n\u001b[0;32m     12\u001b[0m \u001b[0mprint\u001b[0m\u001b[1;33m(\u001b[0m\u001b[0mnext\u001b[0m\u001b[1;33m(\u001b[0m\u001b[0mc\u001b[0m\u001b[1;33m)\u001b[0m\u001b[1;33m)\u001b[0m\u001b[1;33m\u001b[0m\u001b[1;33m\u001b[0m\u001b[0m\n\u001b[1;32m---> 13\u001b[1;33m \u001b[0mprint\u001b[0m\u001b[1;33m(\u001b[0m\u001b[0mnext\u001b[0m\u001b[1;33m(\u001b[0m\u001b[0mc\u001b[0m\u001b[1;33m)\u001b[0m\u001b[1;33m)\u001b[0m\u001b[1;33m\u001b[0m\u001b[1;33m\u001b[0m\u001b[0m\n\u001b[0m",
      "\u001b[1;31mStopIteration\u001b[0m: "
     ]
    }
   ],
   "source": [
    "# Iter\n",
    "c = iter(b)\n",
    "print(next(c))\n",
    "print(next(c))\n",
    "print(next(c))\n",
    "print(next(c))\n",
    "print(next(c))\n",
    "print(next(c))\n",
    "print(next(c))\n",
    "print(next(c))\n",
    "print(next(c))\n",
    "print(next(c))\n",
    "print(next(c))"
   ]
  },
  {
   "cell_type": "code",
   "execution_count": 5,
   "metadata": {},
   "outputs": [
    {
     "output_type": "stream",
     "name": "stdout",
     "text": "The_Importance_of_Being_Earnest.txt\nGrimms_Fairy_Tales.txt\nThe_Call_of_the_Wild.txt\nIon.txt\nA_Modest_Proposal.txt\nA_Tale_of_Two_Cities.txt\nWar_and_Peace.txt\nA_Christmas_Carol.txt\nA_Dolls_House.txt\nThe_Adventures_of_Tom_Sawyer.txt\n"
    }
   ],
   "source": [
    "# generator\n",
    "gen = b.urllist_generator()\n",
    "\n",
    "for g in gen:\n",
    "    print(g)"
   ]
  },
  {
   "cell_type": "code",
   "execution_count": null,
   "metadata": {},
   "outputs": [],
   "source": [
    "# avg_vowels\n"
   ]
  }
 ]
}