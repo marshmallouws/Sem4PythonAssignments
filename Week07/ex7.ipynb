{
 "nbformat": 4,
 "nbformat_minor": 2,
 "metadata": {
  "language_info": {
   "name": "python",
   "codemirror_mode": {
    "name": "ipython",
    "version": 3
   },
   "version": "3.7.4-final"
  },
  "orig_nbformat": 2,
  "file_extension": ".py",
  "mimetype": "text/x-python",
  "name": "python",
  "npconvert_exporter": "python",
  "pygments_lexer": "ipython3",
  "version": 3,
  "kernelspec": {
   "name": "python37464bitannikavirtualenvc6ca3bfe3af84bc1ba48277047dfa1ae",
   "display_name": "Python 3.7.4 64-bit ('Annika': virtualenv)"
  }
 },
 "cells": [
  {
   "cell_type": "code",
   "execution_count": 84,
   "metadata": {},
   "outputs": [],
   "source": [
    "# Happy County assignment\n",
    "import bs4\n",
    "from selenium import webdriver\n",
    "from time import sleep\n",
    "from selenium.webdriver.common.keys import Keys\n",
    "import matplotlib.pyplot as plt\n",
    "import numpy as np\n",
    "\n",
    "url = \"https://www.merchbar.com\"\n",
    "browser = webdriver.Firefox()\n",
    "browser.get(url)\n",
    "browser.implicitly_wait(3)\n",
    "query = \"breaking benjamin\""
   ]
  },
  {
   "cell_type": "code",
   "execution_count": 85,
   "metadata": {},
   "outputs": [
    {
     "output_type": "error",
     "ename": "IndexError",
     "evalue": "list index out of range",
     "traceback": [
      "\u001b[1;31m---------------------------------------------------------------------------\u001b[0m",
      "\u001b[1;31mIndexError\u001b[0m                                Traceback (most recent call last)",
      "\u001b[1;32m<ipython-input-85-c9a1048c8e71>\u001b[0m in \u001b[0;36m<module>\u001b[1;34m\u001b[0m\n\u001b[0;32m     11\u001b[0m \u001b[0msearch\u001b[0m\u001b[1;33m(\u001b[0m\u001b[1;34m\"breaking benjamin\"\u001b[0m\u001b[1;33m)\u001b[0m\u001b[1;33m\u001b[0m\u001b[1;33m\u001b[0m\u001b[0m\n\u001b[0;32m     12\u001b[0m \u001b[0mno_of_products_search\u001b[0m \u001b[1;33m=\u001b[0m \u001b[0mbrowser\u001b[0m\u001b[1;33m.\u001b[0m\u001b[0mfind_element_by_class_name\u001b[0m\u001b[1;33m(\u001b[0m\u001b[1;34m\"my-2.row\"\u001b[0m\u001b[1;33m)\u001b[0m\u001b[1;33m\u001b[0m\u001b[1;33m\u001b[0m\u001b[0m\n\u001b[1;32m---> 13\u001b[1;33m \u001b[0mresult\u001b[0m \u001b[1;33m=\u001b[0m \u001b[0mno_of_products_search\u001b[0m\u001b[1;33m.\u001b[0m\u001b[0mtext\u001b[0m\u001b[1;33m.\u001b[0m\u001b[0msplit\u001b[0m\u001b[1;33m(\u001b[0m\u001b[1;33m)\u001b[0m\u001b[1;33m[\u001b[0m\u001b[1;36m0\u001b[0m\u001b[1;33m]\u001b[0m  \u001b[1;31m# 34\u001b[0m\u001b[1;33m\u001b[0m\u001b[1;33m\u001b[0m\u001b[0m\n\u001b[0m\u001b[0;32m     14\u001b[0m \u001b[1;33m\u001b[0m\u001b[0m\n\u001b[0;32m     15\u001b[0m \u001b[1;31m# Number of products when searching\u001b[0m\u001b[1;33m\u001b[0m\u001b[1;33m\u001b[0m\u001b[1;33m\u001b[0m\u001b[0m\n",
      "\u001b[1;31mIndexError\u001b[0m: list index out of range"
     ]
    }
   ],
   "source": [
    "# Search for breaking benjamin\n",
    "def search(query):\n",
    "    search_field = browser.find_elements_by_tag_name(\"input\")\n",
    "    for search in search_field:\n",
    "        if \"Search over\" in search.get_attribute(\"placeholder\"):\n",
    "            break\n",
    "    search.clear()\n",
    "    search.send_keys(query + Keys.RETURN)\n",
    "    sleep(1)\n",
    "\n",
    "search(\"breaking benjamin\")\n",
    "no_of_products_search = browser.find_element_by_class_name(\"my-2.row\")\n",
    "result = no_of_products_search.text.split()[0]  # 34\n",
    "\n",
    "# Number of products when searching\n",
    "f\"Searching for breaking benjamin gave {result} results\""
   ]
  },
  {
   "cell_type": "code",
   "execution_count": 86,
   "metadata": {},
   "outputs": [
    {
     "output_type": "execute_result",
     "data": {
      "text/plain": "'So Cold (Aurora Version)\\nFailure (Aurora Version)\\nFar Away\\nAngels Fall (Aurora Version)\\nRed Cold River (Aurora Version)'"
     },
     "metadata": {},
     "execution_count": 86
    }
   ],
   "source": [
    "\"\"\"\n",
    "2. Hvor mange TRACKs er der i det første produkt, \n",
    "som ligger i kategorien CDs?\n",
    "\"\"\"\n",
    "selects = browser.find_elements_by_class_name(\"ais-RefinementList-labelText\")\n",
    "for s in selects:\n",
    "    if \"CDs\" in s.text:\n",
    "        break\n",
    "\n",
    "s.click()  # Click cds\n",
    "\n",
    "sleep(1)\n",
    "\n",
    "browser.find_element_by_class_name(\n",
    "    \"brand-merch-container.page-items-container.col-md-9\"\n",
    ").find_element_by_tag_name(\"img\").click()\n",
    "\n",
    "sleep(1)\n",
    "result = browser.find_element_by_class_name(\"track-list\").text\n",
    "result"
   ]
  },
  {
   "cell_type": "code",
   "execution_count": 87,
   "metadata": {},
   "outputs": [
    {
     "output_type": "stream",
     "name": "stdout",
     "text": "34\n"
    },
    {
     "output_type": "display_data",
     "data": {
      "text/plain": "<Figure size 432x288 with 1 Axes>",
      "image/png": "[encoded data removed]"
     },
     "metadata": {
      "needs_background": "light"
     }
    }
   ],
   "source": [
    "%matplotlib inline\n",
    "\"\"\"\n",
    "\"3. Vis et bar chart der viser: \n",
    "- Procentdel af de viste produkter, der rent faktisk \n",
    "   indeholder Breaking Benjamin merch\n",
    "- Procentdel af den merch, der er på tilbud\n",
    "- Procentdel af den merch, der ikke er på lager\n",
    "\"\"\"\n",
    "search(\"breaking benjamin\")\n",
    "# Scroll down to get all search results\n",
    "browser.execute_script(\"window.scrollTo(0, document.body.scrollHeight);\")\n",
    "\n",
    "sleep(1)\n",
    "soup = bs4.BeautifulSoup(browser.page_source, \"html.parser\")\n",
    "\n",
    "# Getting all products\n",
    "products = soup.find_all(\n",
    "    \"div\", {\"class\": \"SearchInterface.module__merchTileContainer col-md-4 col-6\"}\n",
    ")\n",
    "print(len(products))\n",
    "\n",
    "contains_bb = 0  # 15/34\n",
    "on_sale = 0  # 14/15\n",
    "in_stock = 0  # 11/ 15\n",
    "all_products = len(products)\n",
    "\n",
    "for p in products:\n",
    "    if \"Breaking Benjamin\" not in p.text:\n",
    "        continue\n",
    "    contains_bb += 1\n",
    "    if \"ON SALE\" in p.text:\n",
    "        on_sale += 1\n",
    "    if \"In Stock\" in p.text:\n",
    "        in_stock += 1\n",
    "\n",
    "xaxis = [\"Contains Breaking Benjamin\", \"On sale\", \"In stock\"]\n",
    "pos = np.arange(len(xaxis))\n",
    "y = range(0, 40, 1)\n",
    "plt.bar(pos, [all_products, contains_bb, contains_bb], color=\"blue\")\n",
    "plt.bar(pos, [contains_bb, on_sale, in_stock], color=\"pink\")\n",
    "plt.xticks(pos, xaxis)\n",
    "\n",
    "plt.bar\n",
    "plt.show()"
   ]
  }
 ]
}