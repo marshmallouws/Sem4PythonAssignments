{
 "nbformat": 4,
 "nbformat_minor": 2,
 "metadata": {
  "language_info": {
   "name": "python",
   "codemirror_mode": {
    "name": "ipython",
    "version": 3
   },
   "version": "3.7.4-final"
  },
  "orig_nbformat": 2,
  "file_extension": ".py",
  "mimetype": "text/x-python",
  "name": "python",
  "npconvert_exporter": "python",
  "pygments_lexer": "ipython3",
  "version": 3,
  "kernelspec": {
   "name": "python37464bitannikavirtualenvc6ca3bfe3af84bc1ba48277047dfa1ae",
   "display_name": "Python 3.7.4 64-bit ('Annika': virtualenv)"
  }
 },
 "cells": [
  {
   "cell_type": "markdown",
   "execution_count": null,
   "metadata": {},
   "outputs": [],
   "source": [
    "# Assignments\n",
    "## Assignment 1)"
   ]
  },
  {
   "cell_type": "code",
   "execution_count": 1,
   "metadata": {},
   "outputs": [],
   "source": [
    "# A) Iterate a list of names to return a list of the names starting with H\n",
    "names = [\"Peter\", \"Hans\", \"Jens\", \"Hansi\", \"Helga\"]\n",
    "h_names = [name for name in names if name.startswith(\"H\")]\n",
    "h_names"
   ]
  },
  {
   "cell_type": "code",
   "execution_count": 2,
   "metadata": {},
   "outputs": [],
   "source": [
    "# B) In one line create a list of the numbers 1-100 to the power of 3\n",
    "power = [x**3 for x in range(1, 101)]\n",
    "power"
   ]
  },
  {
   "cell_type": "code",
   "execution_count": 3,
   "metadata": {},
   "outputs": [],
   "source": [
    "# C) Iterate a list of names to create a list of tuples where the tuples first value is the length of the name and the second is the name\n",
    "n = [(len(name),name) for name in names]\n",
    "n"
   ]
  },
  {
   "cell_type": "code",
   "execution_count": 4,
   "metadata": {},
   "outputs": [],
   "source": [
    "# D) Iterate over each character in a string and get only those that are nummeric\n",
    "s = \"P3t3r3rD3jl1g<3\"\n",
    "num = [c for c in s if c.isdigit()]\n",
    "num"
   ]
  },
  {
   "cell_type": "code",
   "execution_count": 5,
   "metadata": {},
   "outputs": [],
   "source": [
    "# E) Using only a list comprehension wrapped in set() get all possible combination from throwing 2 dice\n",
    "dice1 = set([x+y for x in range(1,7) for y in range(1,7)])\n",
    "\n",
    "# Set comprehension\n",
    "dice2 = {x+y for x in range(1,7) for y in range(1,7)}\n",
    "\n",
    "dice1\n",
    "dice2"
   ]
  },
  {
   "cell_type": "markdown",
   "execution_count": null,
   "metadata": {},
   "outputs": [],
   "source": [
    "## Assignment 2)"
   ]
  },
  {
   "cell_type": "code",
   "execution_count": 6,
   "metadata": {},
   "outputs": [],
   "source": [
    "# A) Iterate a list of names and create a dictionary where key is the name and value is the length of the name\n",
    "name_dictionary = {name:len(name) for name in names}\n",
    "name_dictionary"
   ]
  },
  {
   "cell_type": "code",
   "execution_count": 7,
   "metadata": {},
   "outputs": [],
   "source": [
    "# B) Iterate a list of numbers and create a dictionary with (key, value) being (number, squareroot of number)\n",
    "import math\n",
    "num_dictionary = {num: math.sqrt(num) for num in range(1,10)}\n",
    "num_dictionary"
   ]
  },
  {
   "cell_type": "markdown",
   "execution_count": null,
   "metadata": {},
   "outputs": [],
   "source": [
    "## Assignment 3)"
   ]
  },
  {
   "cell_type": "code",
   "execution_count": 24,
   "metadata": {},
   "outputs": [],
   "source": [
    "dice_dictionary = {}\n",
    "for die1 in range(1,7):\n",
    "    for die2 in range(1,7):\n",
    "        if die1+die2 in dice_dictionary:\n",
    "            dice_dictionary[die1 + die2] += 1/36\n",
    "        else:\n",
    "            dice_dictionary[die1 + die2] = 1/36\n",
    "\n",
    "dice_dictionary\n"
   ]
  }
 ]
}