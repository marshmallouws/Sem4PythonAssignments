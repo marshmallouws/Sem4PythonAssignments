{
 "cells": [
  {
   "cell_type": "code",
   "execution_count": 51,
   "metadata": {},
   "outputs": [
    {
     "name": "stdout",
     "output_type": "stream",
     "text": [
      "1) Divorce rate increased by 26.98%\n"
     ]
    }
   ],
   "source": [
    "# 1) What is the change in pct of divorced danes from 2008 to 2020?\n",
    "divorced2008 = 428864\n",
    "divorced2020 = 544588\n",
    "percentincrease =  (( divorced2020 - divorced2008 ) / divorced2008)*100\n",
    "print(\"1) Divorce rate increased by %.2f%%\"%percentincrease)"
   ]
  },
  {
   "cell_type": "code",
   "execution_count": 20,
   "metadata": {},
   "outputs": [
    {
     "data": {
      "text/html": [
       "<div>\n",
       "<style scoped>\n",
       "    .dataframe tbody tr th:only-of-type {\n",
       "        vertical-align: middle;\n",
       "    }\n",
       "\n",
       "    .dataframe tbody tr th {\n",
       "        vertical-align: top;\n",
       "    }\n",
       "\n",
       "    .dataframe thead th {\n",
       "        text-align: right;\n",
       "    }\n",
       "</style>\n",
       "<table border=\"1\" class=\"dataframe\">\n",
       "  <thead>\n",
       "    <tr style=\"text-align: right;\">\n",
       "      <th></th>\n",
       "      <th>CIVILSTAND</th>\n",
       "      <th>OMRÅDE</th>\n",
       "      <th>TID</th>\n",
       "      <th>INDHOLD</th>\n",
       "    </tr>\n",
       "  </thead>\n",
       "  <tbody>\n",
       "    <tr>\n",
       "      <td>0</td>\n",
       "      <td>Ugift</td>\n",
       "      <td>København</td>\n",
       "      <td>2020K1</td>\n",
       "      <td>412512</td>\n",
       "    </tr>\n",
       "    <tr>\n",
       "      <td>79</td>\n",
       "      <td>Ugift</td>\n",
       "      <td>Aarhus</td>\n",
       "      <td>2020K1</td>\n",
       "      <td>208509</td>\n",
       "    </tr>\n",
       "    <tr>\n",
       "      <td>98</td>\n",
       "      <td>Ugift</td>\n",
       "      <td>Aalborg</td>\n",
       "      <td>2020K1</td>\n",
       "      <td>118194</td>\n",
       "    </tr>\n",
       "    <tr>\n",
       "      <td>54</td>\n",
       "      <td>Ugift</td>\n",
       "      <td>Odense</td>\n",
       "      <td>2020K1</td>\n",
       "      <td>112490</td>\n",
       "    </tr>\n",
       "    <tr>\n",
       "      <td>1</td>\n",
       "      <td>Ugift</td>\n",
       "      <td>Frederiksberg</td>\n",
       "      <td>2020K1</td>\n",
       "      <td>60781</td>\n",
       "    </tr>\n",
       "  </tbody>\n",
       "</table>\n",
       "</div>"
      ],
      "text/plain": [
       "   CIVILSTAND         OMRÅDE     TID  INDHOLD\n",
       "0       Ugift      København  2020K1   412512\n",
       "79      Ugift         Aarhus  2020K1   208509\n",
       "98      Ugift        Aalborg  2020K1   118194\n",
       "54      Ugift         Odense  2020K1   112490\n",
       "1       Ugift  Frederiksberg  2020K1    60781"
      ]
     },
     "execution_count": 20,
     "metadata": {},
     "output_type": "execute_result"
    }
   ],
   "source": [
    "# 2) Which of the 5 biggest cities has the highest percentage of 'Never Married'?\n",
    "from io import StringIO\n",
    "import pandas as pd\n",
    "\n",
    "nevermarriedcsv = StringIO(\"\"\"CIVILSTAND;OMRÅDE;TID;INDHOLD\n",
    "Ugift;København;2020K1;412512\n",
    "Ugift;Frederiksberg;2020K1;60781\n",
    "Ugift;Dragør;2020K1;5844\n",
    "Ugift;Tårnby;2020K1;19947\n",
    "Ugift;Albertslund;2020K1;13795\n",
    "Ugift;Ballerup;2020K1;22371\n",
    "Ugift;Brøndby;2020K1;16245\n",
    "Ugift;Gentofte;2020K1;35130\n",
    "Ugift;Gladsaxe;2020K1;34731\n",
    "Ugift;Glostrup;2020K1;11193\n",
    "Ugift;Herlev;2020K1;13767\n",
    "Ugift;Hvidovre;2020K1;26533\n",
    "Ugift;Høje-Taastrup;2020K1;23532\n",
    "Ugift;Ishøj;2020K1;10808\n",
    "Ugift;Lyngby-Taarbæk;2020K1;27810\n",
    "Ugift;Rødovre;2020K1;20055\n",
    "Ugift;Vallensbæk;2020K1;7354\n",
    "Ugift;Allerød;2020K1;10586\n",
    "Ugift;Egedal;2020K1;18274\n",
    "Ugift;Fredensborg;2020K1;17135\n",
    "Ugift;Frederikssund;2020K1;18530\n",
    "Ugift;Furesø;2020K1;17443\n",
    "Ugift;Gribskov;2020K1;15993\n",
    "Ugift;Halsnæs;2020K1;12656\n",
    "Ugift;Helsingør;2020K1;27077\n",
    "Ugift;Hillerød;2020K1;23306\n",
    "Ugift;Hørsholm;2020K1;9677\n",
    "Ugift;Rudersdal;2020K1;24690\n",
    "Ugift;Bornholm;2020K1;15996\n",
    "Ugift;Christiansø;2020K1;31\n",
    "Ugift;Greve;2020K1;21016\n",
    "Ugift;Køge;2020K1;27189\n",
    "Ugift;Lejre;2020K1;11553\n",
    "Ugift;Roskilde;2020K1;41111\n",
    "Ugift;Solrød;2020K1;9955\n",
    "Ugift;Faxe;2020K1;15575\n",
    "Ugift;Guldborgsund;2020K1;25908\n",
    "Ugift;Holbæk;2020K1;32235\n",
    "Ugift;Kalundborg;2020K1;21163\n",
    "Ugift;Lolland;2020K1;17132\n",
    "Ugift;Næstved;2020K1;38119\n",
    "Ugift;Odsherred;2020K1;13011\n",
    "Ugift;Ringsted;2020K1;16052\n",
    "Ugift;Slagelse;2020K1;37269\n",
    "Ugift;Sorø;2020K1;13232\n",
    "Ugift;Stevns;2020K1;9085\n",
    "Ugift;Vordingborg;2020K1;19110\n",
    "Ugift;Assens;2020K1;17711\n",
    "Ugift;Faaborg-Midtfyn;2020K1;22004\n",
    "Ugift;Kerteminde;2020K1;9789\n",
    "Ugift;Langeland;2020K1;4583\n",
    "Ugift;Middelfart;2020K1;16533\n",
    "Ugift;Nordfyns;2020K1;12701\n",
    "Ugift;Nyborg;2020K1;13803\n",
    "Ugift;Odense;2020K1;112490\n",
    "Ugift;Svendborg;2020K1;26178\n",
    "Ugift;Ærø;2020K1;2174\n",
    "Ugift;Billund;2020K1;11719\n",
    "Ugift;Esbjerg;2020K1;55014\n",
    "Ugift;Fanø;2020K1;1258\n",
    "Ugift;Fredericia;2020K1;23719\n",
    "Ugift;Haderslev;2020K1;24806\n",
    "Ugift;Kolding;2020K1;44898\n",
    "Ugift;Sønderborg;2020K1;32107\n",
    "Ugift;Tønder;2020K1;15874\n",
    "Ugift;Varde;2020K1;21766\n",
    "Ugift;Vejen;2020K1;19285\n",
    "Ugift;Vejle;2020K1;54448\n",
    "Ugift;Aabenraa;2020K1;25266\n",
    "Ugift;Favrskov;2020K1;21794\n",
    "Ugift;Hedensted;2020K1;20301\n",
    "Ugift;Horsens;2020K1;44353\n",
    "Ugift;Norddjurs;2020K1;16360\n",
    "Ugift;Odder;2020K1;9599\n",
    "Ugift;Randers;2020K1;46936\n",
    "Ugift;Samsø;2020K1;1281\n",
    "Ugift;Silkeborg;2020K1;43672\n",
    "Ugift;Skanderborg;2020K1;28692\n",
    "Ugift;Syddjurs;2020K1;17996\n",
    "Ugift;Aarhus;2020K1;208509\n",
    "Ugift;Herning;2020K1;41719\n",
    "Ugift;Holstebro;2020K1;27357\n",
    "Ugift;Ikast-Brande;2020K1;18551\n",
    "Ugift;Lemvig;2020K1;7900\n",
    "Ugift;Ringkøbing-Skjern;2020K1;24254\n",
    "Ugift;Skive;2020K1;20222\n",
    "Ugift;Struer;2020K1;8562\n",
    "Ugift;Viborg;2020K1;45370\n",
    "Ugift;Brønderslev;2020K1;16246\n",
    "Ugift;Frederikshavn;2020K1;24767\n",
    "Ugift;Hjørring;2020K1;28574\n",
    "Ugift;Jammerbugt;2020K1;16286\n",
    "Ugift;Læsø;2020K1;593\n",
    "Ugift;Mariagerfjord;2020K1;18168\n",
    "Ugift;Morsø;2020K1;8740\n",
    "Ugift;Rebild;2020K1;13553\n",
    "Ugift;Thisted;2020K1;18696\n",
    "Ugift;Vesthimmerlands;2020K1;16172\n",
    "Ugift;Aalborg;2020K1;118194\n",
    "\"\"\")\n",
    "\n",
    "df = pd.read_csv(nevermarriedcsv, sep=\";\")\n",
    "#df.sort_values(by=[\"INDHOLD\"], ascending=False)\n",
    "df.nlargest(5, 'INDHOLD')"
   ]
  },
  {
   "cell_type": "code",
   "execution_count": 85,
   "metadata": {},
   "outputs": [
    {
     "data": {
      "text/plain": [
       "<matplotlib.legend.Legend at 0x2458428e508>"
      ]
     },
     "execution_count": 85,
     "metadata": {},
     "output_type": "execute_result"
    },
    {
     "data": {
      "image/png": "[encoded data removed]",
      "text/plain": [
       "<Figure size 1440x360 with 1 Axes>"
      ]
     },
     "metadata": {
      "needs_background": "light"
     },
     "output_type": "display_data"
    }
   ],
   "source": [
    "# 3) Show a bar chart of changes in marrital status in Copenhagen from 2008 till now\n",
    "%matplotlib inline\n",
    "from io import StringIO\n",
    "import pandas as pd\n",
    "\n",
    "csv = StringIO(\"\"\"\n",
    "OMRÅDE;TID;CIVILSTAND;INDHOLD\n",
    "København;2008K1;Gift/separeret;128556\n",
    "København;2008K2;Gift/separeret;128289\n",
    "København;2008K3;Gift/separeret;128728\n",
    "København;2008K4;Gift/separeret;130727\n",
    "København;2009K1;Gift/separeret;130995\n",
    "København;2009K2;Gift/separeret;130736\n",
    "København;2009K3;Gift/separeret;131489\n",
    "København;2009K4;Gift/separeret;133014\n",
    "København;2010K1;Gift/separeret;133196\n",
    "København;2010K2;Gift/separeret;132864\n",
    "København;2010K3;Gift/separeret;133650\n",
    "København;2010K4;Gift/separeret;135341\n",
    "København;2011K1;Gift/separeret;135422\n",
    "København;2011K2;Gift/separeret;135002\n",
    "København;2011K3;Gift/separeret;135713\n",
    "København;2011K4;Gift/separeret;136965\n",
    "København;2012K1;Gift/separeret;136827\n",
    "København;2012K2;Gift/separeret;136238\n",
    "København;2012K3;Gift/separeret;136858\n",
    "København;2012K4;Gift/separeret;137880\n",
    "København;2013K1;Gift/separeret;138132\n",
    "København;2013K2;Gift/separeret;137542\n",
    "København;2013K3;Gift/separeret;137917\n",
    "København;2013K4;Gift/separeret;139664\n",
    "København;2014K1;Gift/separeret;138830\n",
    "København;2014K2;Gift/separeret;138186\n",
    "København;2014K3;Gift/separeret;138329\n",
    "København;2014K4;Gift/separeret;139729\n",
    "København;2015K1;Gift/separeret;139613\n",
    "København;2015K2;Gift/separeret;139465\n",
    "København;2015K3;Gift/separeret;139893\n",
    "København;2015K4;Gift/separeret;141141\n",
    "København;2016K1;Gift/separeret;140881\n",
    "København;2016K2;Gift/separeret;140688\n",
    "København;2016K3;Gift/separeret;141427\n",
    "København;2016K4;Gift/separeret;143024\n",
    "København;2017K1;Gift/separeret;143176\n",
    "København;2017K2;Gift/separeret;142783\n",
    "København;2017K3;Gift/separeret;143640\n",
    "København;2017K4;Gift/separeret;145607\n",
    "København;2018K1;Gift/separeret;145479\n",
    "København;2018K2;Gift/separeret;145301\n",
    "København;2018K3;Gift/separeret;146287\n",
    "København;2018K4;Gift/separeret;148172\n",
    "København;2019K1;Gift/separeret;147974\n",
    "København;2019K2;Gift/separeret;147848\n",
    "København;2019K3;Gift/separeret;148834\n",
    "København;2019K4;Gift/separeret;150492\n",
    "København;2020K1;Gift/separeret;150458\n",
    "\"\"\")\n",
    "\n",
    "df = pd.read_csv(csv,sep=\";\")\n",
    "\n",
    "ax = df.plot.bar(x='TID', y='INDHOLD', rot=70, figsize=(20,5))\n",
    "ax.legend(['MARRIED'])"
   ]
  },
  {
   "cell_type": "code",
   "execution_count": 84,
   "metadata": {},
   "outputs": [
    {
     "data": {
      "text/plain": [
       "<matplotlib.legend.Legend at 0x245844bf748>"
      ]
     },
     "execution_count": 84,
     "metadata": {},
     "output_type": "execute_result"
    },
    {
     "data": {
      "image/png": "[encoded data removed]",
      "text/plain": [
       "<Figure size 360x360 with 1 Axes>"
      ]
     },
     "metadata": {
      "needs_background": "light"
     },
     "output_type": "display_data"
    }
   ],
   "source": [
    "# 4) Show a bar chart of 'Married' and 'Never Married' for all ages in DK (Hint: 2 bars of different color)\n",
    "%matplotlib inline\n",
    "from io import StringIO\n",
    "import pandas as pd\n",
    "\n",
    "csv = StringIO(\"\"\"\n",
    "CIVILSTAND;OMRÅDE;TID;INDHOLD\n",
    "Gift/separeret;Hele landet;2020K1;2146017\n",
    "Ugift;Hele landet;2020K1;2844060\"\"\")\n",
    "\n",
    "df = pd.read_csv(csv,sep=\";\")\n",
    "\n",
    "ax = df.plot.bar(x='CIVILSTAND', y='INDHOLD', rot=0, figsize=(5,5), color=['b','g'])\n",
    "ax.set_ylabel('Antal')\n",
    "ax.legend(['ANTAL PERSONER'])"
   ]
  },
  {
   "cell_type": "code",
   "execution_count": null,
   "metadata": {},
   "outputs": [],
   "source": []
  }
 ],
 "metadata": {
  "kernelspec": {
   "display_name": "Python 3",
   "language": "python",
   "name": "python3"
  },
  "language_info": {
   "codemirror_mode": {
    "name": "ipython",
    "version": 3
   },
   "file_extension": ".py",
   "mimetype": "text/x-python",
   "name": "python",
   "nbconvert_exporter": "python",
   "pygments_lexer": "ipython3",
   "version": "3.7.4"
  }
 },
 "nbformat": 4,
 "nbformat_minor": 2
}
